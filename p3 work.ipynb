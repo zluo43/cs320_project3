{
 "cells": [
  {
   "cell_type": "code",
   "execution_count": 1,
   "id": "helpful-hometown",
   "metadata": {},
   "outputs": [],
   "source": [
    "import os, zipfile\n",
    "\n",
    "import pandas as pd\n",
    "from selenium import webdriver\n",
    "from selenium.webdriver.chrome.options import Options\n",
    "from selenium.common.exceptions import NoSuchElementException\n",
    "from IPython.core.display import display, Image"
   ]
  },
  {
   "cell_type": "code",
   "execution_count": 6,
   "id": "solar-bread",
   "metadata": {},
   "outputs": [
    {
     "name": "stdout",
     "output_type": "stream",
     "text": [
      "['2', '4']\n",
      "['1', '3', '5']\n",
      "['M', 'A']\n",
      "['C', 'O']\n"
     ]
    }
   ],
   "source": [
    "from scrape import *\n",
    "fs = FileScraper()\n",
    "print(fs.go(\"1\"))\n",
    "print(fs.go(\"2\"))\n",
    "print(fs.BFSorder)\n",
    "print(fs.DFSorder)"
   ]
  },
  {
   "cell_type": "code",
   "execution_count": 9,
   "id": "delayed-details",
   "metadata": {},
   "outputs": [],
   "source": [
    "\n",
    "\n",
    "\n",
    "class GraphScraper:\n",
    "    def __init__(self):\n",
    "        self.visited = set()\n",
    "        self.BFSorder = []\n",
    "        self.DFSorder = []\n",
    "\n",
    "\n",
    "def go(self, node):\n",
    "    raise Exception(\"must be overridden in sub classes -- don't change me here!\")\n",
    "\n",
    "def bfs_search(self, node):\n",
    "    visit = []\n",
    "    todo = []\n",
    "    todo.append(node)\n",
    "    while todo:\n",
    "        node = todo.pop(0)\n",
    "        if node not in visit:\n",
    "            visit.append(node)\n",
    "            todo.extend(self.go(self,node))\n",
    "\n",
    "\n",
    "def dfs_search(self, node):\n",
    "        visit = []\n",
    "        todo = []\n",
    "        todo.append(node)\n",
    "        while todo:\n",
    "            node = todo.pop()\n",
    "            if node not in visit:\n",
    "                visit.append(node)\n",
    "                todo.extend(reversed(self.go(self,node)))\n",
    "\n",
    "class FileScraper(GraphScraper):\n",
    "    def __init__(self):\n",
    "        super().__init__()\n",
    "        if not os.path.exists(\"Files\"):\n",
    "            with zipfile.ZipFile(\"files.zip\") as zf:\n",
    "                zf.extractall()\n",
    "\n",
    "    def go(self, node):\n",
    "        with open(\"Files/\"+node+\".txt\") as f:\n",
    "            data=f.read().split('\\n')\n",
    "            \n",
    "            self.BFSorder.append(data[2][-1])\n",
    "            self.DFSorder.append(data[3][-1])\n",
    "        return lines[1].split(\" \")\n",
    "\n",
    "class WebScraper(GraphScraper):\n",
    "\n",
    "    def __init__(self, driver=None):\n",
    "        super().__init__()\n",
    "        self.driver = driver\n",
    "\n",
    "# these three can be done as groupwork\n",
    "    def go(self, url):\n",
    "        self.driver.get(url)\n",
    "        link = self.driver.find_elements_by_tag_name(\"a\")\n",
    "\n",
    "        list_dfs=self.driver.find_element_by_id(\"DFS\")\n",
    "        list_dfs.click()\n",
    "        self.DFSorder.append(list_dfs.text)\n",
    "\n",
    "        list_bfs=self.driver.find_element_by_id(\"BFS\")\n",
    "        list_bfs.click()\n",
    "        self.BFSorder.append(list_bfs.text)\n",
    "\n",
    "        return [link.get_attribute(\"href\") for link in links]\n",
    "\n",
    "    def dfs_pass(self, start_url):\n",
    "        super().__init__()\n",
    "        super().dfs_search(start_url)\n",
    "        return ''.join(self.DFSorder)\n",
    "\n",
    "    def bfs_pass(self, start_url):\n",
    "        super().__init__()\n",
    "        super().bfs_search(start_url)\n",
    "        return ''.join(self.BFSorder)\n",
    "\n",
    "\n"
   ]
  },
  {
   "cell_type": "code",
   "execution_count": null,
   "id": "controlled-thomson",
   "metadata": {},
   "outputs": [],
   "source": []
  }
 ],
 "metadata": {
  "kernelspec": {
   "display_name": "Python 3",
   "language": "python",
   "name": "python3"
  },
  "language_info": {
   "codemirror_mode": {
    "name": "ipython",
    "version": 3
   },
   "file_extension": ".py",
   "mimetype": "text/x-python",
   "name": "python",
   "nbconvert_exporter": "python",
   "pygments_lexer": "ipython3",
   "version": "3.6.9"
  }
 },
 "nbformat": 4,
 "nbformat_minor": 5
}
